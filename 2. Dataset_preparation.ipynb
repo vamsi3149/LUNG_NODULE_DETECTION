{
 "cells": [
  {
   "cell_type": "code",
   "execution_count": 1,
   "id": "4645d079",
   "metadata": {},
   "outputs": [],
   "source": [
    "import numpy as np\n",
    "import os\n",
    "import random\n",
    "from tqdm import tqdm\n",
    "from IPython.display import clear_output"
   ]
  },
  {
   "cell_type": "code",
   "execution_count": 2,
   "id": "11fc6f61",
   "metadata": {},
   "outputs": [],
   "source": [
    "lung_names = os.listdir(\"E:/ENGINEERING PROJECTS/MINI1/VAMSI/Unet/Preprocessing/lungs_roi/\")\n",
    "random.shuffle(lung_names)"
   ]
  },
  {
   "cell_type": "code",
   "execution_count": 3,
   "id": "6d83c727",
   "metadata": {},
   "outputs": [
    {
     "name": "stdout",
     "output_type": "stream",
     "text": [
      "180\n",
      "46\n"
     ]
    }
   ],
   "source": [
    "n = len(lung_names)\n",
    "s = int(n*.8)\n",
    "train_lung_names = lung_names[:s]\n",
    "test_lung_names = lung_names[s:]\n",
    "print(len(train_lung_names))\n",
    "print(len(test_lung_names))"
   ]
  },
  {
   "cell_type": "code",
   "execution_count": 4,
   "id": "91c4905d",
   "metadata": {},
   "outputs": [
    {
     "name": "stderr",
     "output_type": "stream",
     "text": [
      "100%|████████████████████████████████████████████████████████████████████████████████| 180/180 [00:09<00:00, 18.55it/s]\n"
     ]
    }
   ],
   "source": [
    "trainX = []\n",
    "trainY = []\n",
    "for lname in tqdm(train_lung_names):\n",
    "  mname = lname.replace(\"lungs\",\"masks\")\n",
    "  lung = np.load(\"E:/ENGINEERING PROJECTS/MINI1/VAMSI/Unet/Preprocessing/lungs_roi/\"+lname)\n",
    "  mask = np.load(\"E:/ENGINEERING PROJECTS/MINI1/VAMSI/Unet/Preprocessing/nodule_mask/\"+mname)\n",
    "  trainX.append(lung)\n",
    "  trainY.append(mask)\n",
    "\n",
    "trainX = np.array(trainX, dtype=np.uint8)\n",
    "trainY = np.array(trainY, dtype=np.uint8)\n",
    "\n",
    "np.save(\"trainX.npy\", trainX)\n",
    "np.save(\"trainY.npy\", trainY)"
   ]
  },
  {
   "cell_type": "code",
   "execution_count": 6,
   "id": "36b8a0a6",
   "metadata": {},
   "outputs": [
    {
     "name": "stderr",
     "output_type": "stream",
     "text": [
      "100%|██████████████████████████████████████████████████████████████████████████████████| 46/46 [00:03<00:00, 12.21it/s]\n"
     ]
    }
   ],
   "source": [
    "testX = []\n",
    "testY = []\n",
    "\n",
    "for lname in tqdm(test_lung_names):\n",
    "  mname = lname.replace(\"lungs\",\"masks\")\n",
    "  lung = np.load(\"E:/ENGINEERING PROJECTS/MINI1/VAMSI/Unet/Preprocessing/lungs_roi/\"+lname)\n",
    "  mask = np.load(\"E:/ENGINEERING PROJECTS/MINI1/VAMSI/Unet/Preprocessing/nodule_mask/\"+mname)\n",
    "  testX.append(lung)\n",
    "  testY.append(mask)\n",
    "\n",
    "testX = np.array(testX, dtype=np.uint8)\n",
    "testY = np.array(testY, dtype=np.uint8)\n",
    "\n",
    "np.save(\"testX.npy\", testX)\n",
    "np.save(\"testY.npy\", testY)"
   ]
  },
  {
   "cell_type": "code",
   "execution_count": null,
   "id": "11715f45",
   "metadata": {},
   "outputs": [],
   "source": []
  }
 ],
 "metadata": {
  "kernelspec": {
   "display_name": "Python 3 (ipykernel)",
   "language": "python",
   "name": "python3"
  },
  "language_info": {
   "codemirror_mode": {
    "name": "ipython",
    "version": 3
   },
   "file_extension": ".py",
   "mimetype": "text/x-python",
   "name": "python",
   "nbconvert_exporter": "python",
   "pygments_lexer": "ipython3",
   "version": "3.9.7"
  }
 },
 "nbformat": 4,
 "nbformat_minor": 5
}
